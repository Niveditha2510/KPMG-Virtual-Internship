{
 "cells": [
  {
   "cell_type": "markdown",
   "metadata": {},
   "source": [
    "# WELCOME TO THE NOTEBOOK\n",
    " **In this notebook I have analyzed four datasets Transactions.csv,CustomerAddress.csv, CustomerDemographic.csv and NewCustomerList.csv. I have also presented The various observations and visualization of the above given datasets.**"
   ]
  },
  {
   "cell_type": "code",
   "execution_count": 2,
   "metadata": {},
   "outputs": [],
   "source": [
    "import numpy as np # linear algebra\n",
    "import pandas as pd # data processing, CSV file I/O (e.g. pd.read_csv)\n",
    "import math\n"
   ]
  },
  {
   "cell_type": "markdown",
   "metadata": {},
   "source": [
    "### NEWCUSTOMERADDRESS DATA"
   ]
  },
  {
   "cell_type": "code",
   "execution_count": 3,
   "metadata": {},
   "outputs": [
    {
     "name": "stdout",
     "output_type": "stream",
     "text": [
      "      customer_id                    address  postcode            state  \\\n",
      "0               1         060 Morning Avenue      2016  New South Wales   \n",
      "1               2        6 Meadow Vale Court      2153  New South Wales   \n",
      "2               4         0 Holy Cross Court      4211              QLD   \n",
      "3               5        17979 Del Mar Point      2448  New South Wales   \n",
      "4               6           9 Oakridge Court      3216              VIC   \n",
      "...           ...                        ...       ...              ...   \n",
      "3994         3999            1482 Hauk Trail      3064              VIC   \n",
      "3995         4000  57042 Village Green Point      4511              QLD   \n",
      "3996         4001     87 Crescent Oaks Alley      2756              NSW   \n",
      "3997         4002           8194 Lien Street      4032              QLD   \n",
      "3998         4003            320 Acker Drive      2251              NSW   \n",
      "\n",
      "        country  property_valuation  \n",
      "0     Australia                  10  \n",
      "1     Australia                  10  \n",
      "2     Australia                   9  \n",
      "3     Australia                   4  \n",
      "4     Australia                   9  \n",
      "...         ...                 ...  \n",
      "3994  Australia                   3  \n",
      "3995  Australia                   6  \n",
      "3996  Australia                  10  \n",
      "3997  Australia                   7  \n",
      "3998  Australia                   7  \n",
      "\n",
      "[3999 rows x 6 columns]\n"
     ]
    }
   ],
   "source": [
    "df1 = pd.read_excel (r'C:\\Users\\ADMIN\\Downloads\\CustomerAddress.xlsx')\n",
    "\n",
    "\n",
    "print(df1)"
   ]
  },
  {
   "cell_type": "code",
   "execution_count": 4,
   "metadata": {},
   "outputs": [
    {
     "data": {
      "text/plain": [
       "Index(['customer_id', 'address', 'postcode', 'state', 'country',\n",
       "       'property_valuation'],\n",
       "      dtype='object')"
      ]
     },
     "execution_count": 4,
     "metadata": {},
     "output_type": "execute_result"
    }
   ],
   "source": [
    "df1.columns"
   ]
  },
  {
   "cell_type": "code",
   "execution_count": 5,
   "metadata": {},
   "outputs": [
    {
     "name": "stdout",
     "output_type": "stream",
     "text": [
      "<class 'pandas.core.frame.DataFrame'>\n",
      "RangeIndex: 3999 entries, 0 to 3998\n",
      "Data columns (total 6 columns):\n",
      " #   Column              Non-Null Count  Dtype \n",
      "---  ------              --------------  ----- \n",
      " 0   customer_id         3999 non-null   int64 \n",
      " 1   address             3999 non-null   object\n",
      " 2   postcode            3999 non-null   int64 \n",
      " 3   state               3999 non-null   object\n",
      " 4   country             3999 non-null   object\n",
      " 5   property_valuation  3999 non-null   int64 \n",
      "dtypes: int64(3), object(3)\n",
      "memory usage: 187.6+ KB\n"
     ]
    }
   ],
   "source": [
    "df1.info()"
   ]
  },
  {
   "cell_type": "code",
   "execution_count": 6,
   "metadata": {},
   "outputs": [
    {
     "data": {
      "text/plain": [
       "customer_id           0\n",
       "address               0\n",
       "postcode              0\n",
       "state                 0\n",
       "country               0\n",
       "property_valuation    0\n",
       "dtype: int64"
      ]
     },
     "execution_count": 6,
     "metadata": {},
     "output_type": "execute_result"
    }
   ],
   "source": [
    "missing_values_count = df1.isnull().sum()\n",
    "\n",
    "# look at the # of missing points in the first ten columns\n",
    "missing_values_count[0:10]"
   ]
  },
  {
   "cell_type": "code",
   "execution_count": 7,
   "metadata": {},
   "outputs": [
    {
     "data": {
      "text/plain": [
       "0.0"
      ]
     },
     "execution_count": 7,
     "metadata": {},
     "output_type": "execute_result"
    }
   ],
   "source": [
    "total_cells = np.product(df1.shape)\n",
    "total_missing = missing_values_count.sum()\n",
    "\n",
    "# percent of data that is missing\n",
    "(total_missing/total_cells) * 100\n"
   ]
  },
  {
   "cell_type": "code",
   "execution_count": 8,
   "metadata": {},
   "outputs": [
    {
     "data": {
      "text/plain": [
       "0"
      ]
     },
     "execution_count": 8,
     "metadata": {},
     "output_type": "execute_result"
    }
   ],
   "source": [
    "df1.duplicated().sum()"
   ]
  },
  {
   "cell_type": "markdown",
   "metadata": {},
   "source": [
    "##### DATA ASSESSMENT FOR NEW CUSTOMER ADDRESS\n",
    "As we can see in the above code this data has no missing values or duplicates.\n",
    "The data is clean."
   ]
  },
  {
   "cell_type": "markdown",
   "metadata": {},
   "source": [
    "### NEWCUSTOMERLIST DATA"
   ]
  },
  {
   "cell_type": "code",
   "execution_count": 9,
   "metadata": {},
   "outputs": [
    {
     "name": "stdout",
     "output_type": "stream",
     "text": [
      "    first_name  last_name  gender  past_3_years_bike_related_purchases  \\\n",
      "0      Chickie    Brister    Male                                   86   \n",
      "1        Morly     Genery    Male                                   69   \n",
      "2      Ardelis  Forrester  Female                                   10   \n",
      "3       Lucine      Stutt  Female                                   64   \n",
      "4      Melinda     Hadlee  Female                                   34   \n",
      "..         ...        ...     ...                                  ...   \n",
      "995  Ferdinand  Romanetti    Male                                   60   \n",
      "996       Burk    Wortley    Male                                   22   \n",
      "997   Melloney      Temby  Female                                   17   \n",
      "998     Dickie    Cubbini    Male                                   30   \n",
      "999      Sylas    Duffill    Male                                   56   \n",
      "\n",
      "           DOB                     job_title job_industry_category  \\\n",
      "0   1957-07-12               General Manager         Manufacturing   \n",
      "1   1970-03-22           Structural Engineer              Property   \n",
      "2   1974-08-28        Senior Cost Accountant    Financial Services   \n",
      "3   1979-01-28    Account Representative III         Manufacturing   \n",
      "4   1965-09-21             Financial Analyst    Financial Services   \n",
      "..         ...                           ...                   ...   \n",
      "995 1959-10-07                     Paralegal    Financial Services   \n",
      "996 2001-10-17        Senior Sales Associate                Health   \n",
      "997 1954-10-05  Budget/Accounting Analyst IV    Financial Services   \n",
      "998 1952-12-17             Financial Advisor    Financial Services   \n",
      "999 1955-10-02           Staff Accountant IV              Property   \n",
      "\n",
      "        wealth_segment deceased_indicator owns_car  ...  state    country  \\\n",
      "0        Mass Customer                  N      Yes  ...    QLD  Australia   \n",
      "1        Mass Customer                  N       No  ...    NSW  Australia   \n",
      "2    Affluent Customer                  N       No  ...    VIC  Australia   \n",
      "3    Affluent Customer                  N      Yes  ...    QLD  Australia   \n",
      "4    Affluent Customer                  N       No  ...    NSW  Australia   \n",
      "..                 ...                ...      ...  ...    ...        ...   \n",
      "995  Affluent Customer                  N       No  ...    NSW  Australia   \n",
      "996      Mass Customer                  N       No  ...    NSW  Australia   \n",
      "997  Affluent Customer                  N      Yes  ...    QLD  Australia   \n",
      "998      Mass Customer                  N      Yes  ...    QLD  Australia   \n",
      "999      Mass Customer                  N      Yes  ...    NSW  Australia   \n",
      "\n",
      "     property_valuation Unnamed: 16 Unnamed: 17  Unnamed: 18  Unnamed: 19  \\\n",
      "0                     6        0.61      0.7625     0.953125     0.810156   \n",
      "1                    11        0.60      0.6000     0.750000     0.637500   \n",
      "2                     5        0.42      0.4200     0.420000     0.420000   \n",
      "3                     1        0.43      0.5375     0.537500     0.537500   \n",
      "4                     9        1.08      1.0800     1.350000     1.350000   \n",
      "..                  ...         ...         ...          ...          ...   \n",
      "995                   7        0.72      0.7200     0.720000     0.720000   \n",
      "996                  10        1.06      1.0600     1.325000     1.126250   \n",
      "997                   2        0.56      0.7000     0.700000     0.700000   \n",
      "998                   2        0.42      0.5250     0.525000     0.446250   \n",
      "999                   9        0.88      1.1000     1.375000     1.168750   \n",
      "\n",
      "     Unnamed: 20  Rank     Value  \n",
      "0              1     1  1.718750  \n",
      "1              1     1  1.718750  \n",
      "2              1     1  1.718750  \n",
      "3              4     4  1.703125  \n",
      "4              4     4  1.703125  \n",
      "..           ...   ...       ...  \n",
      "995          996   996  0.374000  \n",
      "996          997   997  0.357000  \n",
      "997          997   997  0.357000  \n",
      "998          997   997  0.357000  \n",
      "999         1000  1000  0.340000  \n",
      "\n",
      "[1000 rows x 23 columns]\n"
     ]
    }
   ],
   "source": [
    "df2 = pd.read_excel (r'C:\\Users\\ADMIN\\Downloads\\NewCustomerList.xlsx')\n",
    "\n",
    "\n",
    "print(df2)"
   ]
  },
  {
   "cell_type": "code",
   "execution_count": 10,
   "metadata": {},
   "outputs": [
    {
     "data": {
      "text/plain": [
       "Index(['first_name', 'last_name', 'gender',\n",
       "       'past_3_years_bike_related_purchases', 'DOB', 'job_title',\n",
       "       'job_industry_category', 'wealth_segment', 'deceased_indicator',\n",
       "       'owns_car', 'tenure', 'address', 'postcode', 'state', 'country',\n",
       "       'property_valuation', 'Unnamed: 16', 'Unnamed: 17', 'Unnamed: 18',\n",
       "       'Unnamed: 19', 'Unnamed: 20', 'Rank', 'Value'],\n",
       "      dtype='object')"
      ]
     },
     "execution_count": 10,
     "metadata": {},
     "output_type": "execute_result"
    }
   ],
   "source": [
    "df2.columns"
   ]
  },
  {
   "cell_type": "code",
   "execution_count": 11,
   "metadata": {},
   "outputs": [
    {
     "name": "stdout",
     "output_type": "stream",
     "text": [
      "<class 'pandas.core.frame.DataFrame'>\n",
      "RangeIndex: 1000 entries, 0 to 999\n",
      "Data columns (total 23 columns):\n",
      " #   Column                               Non-Null Count  Dtype         \n",
      "---  ------                               --------------  -----         \n",
      " 0   first_name                           1000 non-null   object        \n",
      " 1   last_name                            971 non-null    object        \n",
      " 2   gender                               1000 non-null   object        \n",
      " 3   past_3_years_bike_related_purchases  1000 non-null   int64         \n",
      " 4   DOB                                  983 non-null    datetime64[ns]\n",
      " 5   job_title                            894 non-null    object        \n",
      " 6   job_industry_category                835 non-null    object        \n",
      " 7   wealth_segment                       1000 non-null   object        \n",
      " 8   deceased_indicator                   1000 non-null   object        \n",
      " 9   owns_car                             1000 non-null   object        \n",
      " 10  tenure                               1000 non-null   int64         \n",
      " 11  address                              1000 non-null   object        \n",
      " 12  postcode                             1000 non-null   int64         \n",
      " 13  state                                1000 non-null   object        \n",
      " 14  country                              1000 non-null   object        \n",
      " 15  property_valuation                   1000 non-null   int64         \n",
      " 16  Unnamed: 16                          1000 non-null   float64       \n",
      " 17  Unnamed: 17                          1000 non-null   float64       \n",
      " 18  Unnamed: 18                          1000 non-null   float64       \n",
      " 19  Unnamed: 19                          1000 non-null   float64       \n",
      " 20  Unnamed: 20                          1000 non-null   int64         \n",
      " 21  Rank                                 1000 non-null   int64         \n",
      " 22  Value                                1000 non-null   float64       \n",
      "dtypes: datetime64[ns](1), float64(5), int64(6), object(11)\n",
      "memory usage: 179.8+ KB\n"
     ]
    }
   ],
   "source": [
    "df2.info()"
   ]
  },
  {
   "cell_type": "code",
   "execution_count": 12,
   "metadata": {},
   "outputs": [
    {
     "data": {
      "text/plain": [
       "first_name                               0\n",
       "last_name                               29\n",
       "gender                                   0\n",
       "past_3_years_bike_related_purchases      0\n",
       "DOB                                     17\n",
       "job_title                              106\n",
       "job_industry_category                  165\n",
       "wealth_segment                           0\n",
       "deceased_indicator                       0\n",
       "owns_car                                 0\n",
       "dtype: int64"
      ]
     },
     "execution_count": 12,
     "metadata": {},
     "output_type": "execute_result"
    }
   ],
   "source": [
    "missing_values_count = df2.isnull().sum()\n",
    "\n",
    "# look at the # of missing points in the first ten columns\n",
    "missing_values_count[0:10]"
   ]
  },
  {
   "cell_type": "code",
   "execution_count": 13,
   "metadata": {},
   "outputs": [
    {
     "data": {
      "text/plain": [
       "1.3782608695652174"
      ]
     },
     "execution_count": 13,
     "metadata": {},
     "output_type": "execute_result"
    }
   ],
   "source": [
    "total_cells = np.product(df2.shape)\n",
    "total_missing = missing_values_count.sum()\n",
    "\n",
    "# percent of data that is missing\n",
    "(total_missing/total_cells) * 100\n"
   ]
  },
  {
   "cell_type": "markdown",
   "metadata": {},
   "source": [
    "###### DATA ASSESSMENT OF NEWCUSTOMER LIST\n",
    "1.This dataframe contains the details of the new customers.\n",
    "2.There are five unnamed columns in this dataset which can be removed or labelled appropriately.\n",
    "3.There are missing values in the following columns- last_name beacause many people may not have a last name,DOB cause not many will be willing to reveal that, same goes for the job_title,job_industry_category.\n",
    "4.The percentage of missing values is quite high at 1.37.\n",
    "5.This data needs a lot of processing before we begin to work in it.\n"
   ]
  },
  {
   "cell_type": "markdown",
   "metadata": {},
   "source": [
    "### CUSTOMERDEMOGRAPHIC DATASET"
   ]
  },
  {
   "cell_type": "code",
   "execution_count": 74,
   "metadata": {},
   "outputs": [
    {
     "name": "stdout",
     "output_type": "stream",
     "text": [
      "      Unnamed: 0      first_name  last_name  gender  \\\n",
      "0              1         Laraine  Medendorp       F   \n",
      "1              2             Eli    Bockman    Male   \n",
      "2              3           Arlin     Dearle    Male   \n",
      "3              4          Talbot        NaN    Male   \n",
      "4              5  Sheila-kathryn     Calton  Female   \n",
      "...          ...             ...        ...     ...   \n",
      "3995        3996         Rosalia   Halgarth  Female   \n",
      "3996        3997          Blanch     Nisuis  Female   \n",
      "3997        3998          Sarene    Woolley       U   \n",
      "3998        3999       Patrizius        NaN    Male   \n",
      "3999        4000           Kippy    Oldland    Male   \n",
      "\n",
      "      past_3_years_bike_related_purchases        DOB               job_title  \\\n",
      "0                                      93 1953-10-12     Executive Secretary   \n",
      "1                                      81 1980-12-16  Administrative Officer   \n",
      "2                                      61 1954-01-20      Recruiting Manager   \n",
      "3                                      33 1961-10-03                     NaN   \n",
      "4                                      56 1977-05-13           Senior Editor   \n",
      "...                                   ...        ...                     ...   \n",
      "3995                                    8 1975-08-09   VP Product Management   \n",
      "3996                                   87 2001-07-13         Statistician II   \n",
      "3997                                   60        NaT       Assistant Manager   \n",
      "3998                                   11 1973-10-24                     NaN   \n",
      "3999                                   76 1991-11-05    Software Engineer IV   \n",
      "\n",
      "     job_industry_category     wealth_segment deceased_indicator  \\\n",
      "0                   Health      Mass Customer                  N   \n",
      "1       Financial Services      Mass Customer                  N   \n",
      "2                 Property      Mass Customer                  N   \n",
      "3                       IT      Mass Customer                  N   \n",
      "4                      NaN  Affluent Customer                  N   \n",
      "...                    ...                ...                ...   \n",
      "3995                Health      Mass Customer                  N   \n",
      "3996         Manufacturing     High Net Worth                  N   \n",
      "3997                    IT     High Net Worth                  N   \n",
      "3998         Manufacturing  Affluent Customer                  N   \n",
      "3999                   NaN  Affluent Customer                  N   \n",
      "\n",
      "                                                default owns_car  tenure  \n",
      "0                                                    \"'      Yes    11.0  \n",
      "1                          <script>alert('hi')</script>      Yes    16.0  \n",
      "2                                   2018-02-01 00:00:00      Yes    15.0  \n",
      "3     () { _; } >_[$($())] { touch /tmp/blns.shellsh...       No     7.0  \n",
      "4                                                   NIL      Yes     8.0  \n",
      "...                                                 ...      ...     ...  \n",
      "3995                                               -100       No    19.0  \n",
      "3996                                           â¦testâ§      Yes     1.0  \n",
      "3997                                                NaN       No     NaN  \n",
      "3998                             Â¡â¢Â£Â¢âÂ§Â¶â¢ÂªÂºââ       Yes    10.0  \n",
      "3999                                                0/0       No    11.0  \n",
      "\n",
      "[4000 rows x 13 columns]\n"
     ]
    }
   ],
   "source": [
    "import pandas as pd\n",
    "import seaborn as sns\n",
    "%matplotlib inline\n",
    "sns.set_style(\"darkgrid\")\n",
    "from matplotlib import pyplot as plt\n",
    "\n",
    "df3 = pd.read_excel (r'C:\\Users\\ADMIN\\Downloads\\CustomerDemographic.xlsx')\n",
    "\n",
    "\n",
    "print(df3)"
   ]
  },
  {
   "cell_type": "code",
   "execution_count": 75,
   "metadata": {},
   "outputs": [
    {
     "name": "stdout",
     "output_type": "stream",
     "text": [
      "<class 'pandas.core.frame.DataFrame'>\n",
      "RangeIndex: 4000 entries, 0 to 3999\n",
      "Data columns (total 13 columns):\n",
      " #   Column                               Non-Null Count  Dtype         \n",
      "---  ------                               --------------  -----         \n",
      " 0   Unnamed: 0                           4000 non-null   int64         \n",
      " 1   first_name                           4000 non-null   object        \n",
      " 2   last_name                            3875 non-null   object        \n",
      " 3   gender                               4000 non-null   object        \n",
      " 4   past_3_years_bike_related_purchases  4000 non-null   int64         \n",
      " 5   DOB                                  3913 non-null   datetime64[ns]\n",
      " 6   job_title                            3494 non-null   object        \n",
      " 7   job_industry_category                3344 non-null   object        \n",
      " 8   wealth_segment                       4000 non-null   object        \n",
      " 9   deceased_indicator                   4000 non-null   object        \n",
      " 10  default                              3698 non-null   object        \n",
      " 11  owns_car                             4000 non-null   object        \n",
      " 12  tenure                               3913 non-null   float64       \n",
      "dtypes: datetime64[ns](1), float64(1), int64(2), object(9)\n",
      "memory usage: 406.4+ KB\n"
     ]
    }
   ],
   "source": [
    "df3.info()"
   ]
  },
  {
   "cell_type": "code",
   "execution_count": 76,
   "metadata": {},
   "outputs": [
    {
     "data": {
      "text/plain": [
       "Unnamed: 0                               0\n",
       "first_name                               0\n",
       "last_name                              125\n",
       "gender                                   0\n",
       "past_3_years_bike_related_purchases      0\n",
       "DOB                                     87\n",
       "job_title                              506\n",
       "job_industry_category                  656\n",
       "wealth_segment                           0\n",
       "deceased_indicator                       0\n",
       "dtype: int64"
      ]
     },
     "execution_count": 76,
     "metadata": {},
     "output_type": "execute_result"
    }
   ],
   "source": [
    "missing_values_count = df3.isnull().sum()\n",
    "\n",
    "# look at the # of missing points in the first ten columns\n",
    "missing_values_count[0:10]"
   ]
  },
  {
   "cell_type": "code",
   "execution_count": 77,
   "metadata": {},
   "outputs": [
    {
     "data": {
      "text/plain": [
       "3.3903846153846153"
      ]
     },
     "execution_count": 77,
     "metadata": {},
     "output_type": "execute_result"
    }
   ],
   "source": [
    "total_cells = np.product(df3.shape)\n",
    "total_missing = missing_values_count.sum()\n",
    "\n",
    "# percent of data that is missing\n",
    "(total_missing/total_cells) * 100\n"
   ]
  },
  {
   "cell_type": "code",
   "execution_count": 78,
   "metadata": {},
   "outputs": [
    {
     "data": {
      "text/plain": [
       "0"
      ]
     },
     "execution_count": 78,
     "metadata": {},
     "output_type": "execute_result"
    }
   ],
   "source": [
    "df3.duplicated().sum()"
   ]
  },
  {
   "cell_type": "code",
   "execution_count": null,
   "metadata": {},
   "outputs": [],
   "source": [
    ".plot.bar(color=sns.color_palette('coolwarm',50))"
   ]
  },
  {
   "cell_type": "code",
   "execution_count": 83,
   "metadata": {},
   "outputs": [
    {
     "data": {
      "text/plain": [
       "<matplotlib.axes._subplots.AxesSubplot at 0x1fa7022a9c8>"
      ]
     },
     "execution_count": 83,
     "metadata": {},
     "output_type": "execute_result"
    },
    {
     "data": {
      "image/png": "[encoded data removed]",
      "text/plain": [
       "<Figure size 432x288 with 1 Axes>"
      ]
     },
     "metadata": {},
     "output_type": "display_data"
    }
   ],
   "source": [
    "df3['wealth_segment'].value_counts()[:10].plot.bar(color=sns.color_palette('coolwarm',50))"
   ]
  },
  {
   "cell_type": "code",
   "execution_count": 96,
   "metadata": {},
   "outputs": [
    {
     "data": {
      "text/plain": [
       "Text(0.5, 1.0, 'PAST THREE YEAR PURCHASE VS GENDER')"
      ]
     },
     "execution_count": 96,
     "metadata": {},
     "output_type": "execute_result"
    },
    {
     "data": {
      "image/png": "[encoded data removed]",
      "text/plain": [
       "<Figure size 432x288 with 1 Axes>"
      ]
     },
     "metadata": {},
     "output_type": "display_data"
    }
   ],
   "source": [
    "plt.scatter(df3['gender'],df3['past_3_years_bike_related_purchases'],color=\"green\")\n",
    "plt.title(\"PAST THREE YEAR PURCHASE VS GENDER\")"
   ]
  },
  {
   "cell_type": "code",
   "execution_count": 98,
   "metadata": {},
   "outputs": [
    {
     "data": {
      "text/plain": [
       "(array([370., 453., 407., 427., 399., 376., 402., 399., 376., 391.]),\n",
       " array([ 0. ,  9.9, 19.8, 29.7, 39.6, 49.5, 59.4, 69.3, 79.2, 89.1, 99. ]),\n",
       " <a list of 10 Patch objects>)"
      ]
     },
     "execution_count": 98,
     "metadata": {},
     "output_type": "execute_result"
    },
    {
     "data": {
      "image/png": "[encoded data removed]",
      "text/plain": [
       "<Figure size 432x288 with 1 Axes>"
      ]
     },
     "metadata": {},
     "output_type": "display_data"
    }
   ],
   "source": [
    " plt.hist(df3.past_3_years_bike_related_purchases)  "
   ]
  },
  {
   "cell_type": "markdown",
   "metadata": {},
   "source": [
    "###### CUSTOMERDEMOGRAPHIC DATA ASSESSMENT\n",
    "1. This dataset contains the details of the customers and is quite similar to the NewCustomerList.\n",
    "2. The dataset contains missing values in the columns last_name,DOB,job_title and job_industry_category.\n",
    "3. The missing values is the highest here wih a whooping 3.3 percent.\n",
    "4. There are no duplicated values."
   ]
  },
  {
   "cell_type": "markdown",
   "metadata": {},
   "source": [
    "### TRANSACTION DATASET"
   ]
  },
  {
   "cell_type": "code",
   "execution_count": 1,
   "metadata": {},
   "outputs": [
    {
     "name": "stdout",
     "output_type": "stream",
     "text": [
      "       transaction_id  product_id  customer_id transaction_date  online_order  \\\n",
      "0                   1           2         2950       2017-02-25           0.0   \n",
      "1                   2           3         3120       2017-05-21           1.0   \n",
      "2                   3          37          402       2017-10-16           0.0   \n",
      "3                   4          88         3135       2017-08-31           0.0   \n",
      "4                   5          78          787       2017-10-01           1.0   \n",
      "...               ...         ...          ...              ...           ...   \n",
      "19995           19996          51         1018       2017-06-24           1.0   \n",
      "19996           19997          41          127       2017-11-09           1.0   \n",
      "19997           19998          87         2284       2017-04-14           1.0   \n",
      "19998           19999           6         2764       2017-07-03           0.0   \n",
      "19999           20000          11         1144       2017-09-22           1.0   \n",
      "\n",
      "      order_status           brand product_line product_class product_size  \\\n",
      "0         Approved           Solex     Standard        medium       medium   \n",
      "1         Approved   Trek Bicycles     Standard        medium        large   \n",
      "2         Approved      OHM Cycles     Standard           low       medium   \n",
      "3         Approved  Norco Bicycles     Standard        medium       medium   \n",
      "4         Approved  Giant Bicycles     Standard        medium        large   \n",
      "...            ...             ...          ...           ...          ...   \n",
      "19995     Approved      OHM Cycles     Standard          high       medium   \n",
      "19996     Approved           Solex         Road        medium       medium   \n",
      "19997     Approved      OHM Cycles     Standard        medium       medium   \n",
      "19998     Approved      OHM Cycles     Standard          high       medium   \n",
      "19999     Approved   Trek Bicycles     Standard        medium        small   \n",
      "\n",
      "       list_price  standard_cost  product_first_sold_date  \n",
      "0           71.49          53.62                  41245.0  \n",
      "1         2091.47         388.92                  41701.0  \n",
      "2         1793.43         248.82                  36361.0  \n",
      "3         1198.46         381.10                  36145.0  \n",
      "4         1765.30         709.48                  42226.0  \n",
      "...           ...            ...                      ...  \n",
      "19995     2005.66        1203.40                  37823.0  \n",
      "19996      416.98         312.74                  35560.0  \n",
      "19997     1636.90          44.71                  40410.0  \n",
      "19998      227.88         136.73                  38216.0  \n",
      "19999     1775.81        1580.47                  36334.0  \n",
      "\n",
      "[20000 rows x 13 columns]\n"
     ]
    }
   ],
   "source": [
    "import numpy as np # linear algebra\n",
    "import pandas as pd # data processing, CSV file I/O (e.g. pd.read_csv)\n",
    "import math\n",
    "\n",
    "df1 = pd.read_excel (r'C:\\Users\\ADMIN\\Downloads\\Transactions.xlsx')\n",
    "\n",
    "\n",
    "print(df1)\n"
   ]
  },
  {
   "cell_type": "markdown",
   "metadata": {},
   "source": [
    "OVERVIEW OF DATASET\n",
    "The dataset is loaded in excel format and it consists of 2000 rows and 13 columns. The column names are printed below."
   ]
  },
  {
   "cell_type": "code",
   "execution_count": 2,
   "metadata": {},
   "outputs": [
    {
     "data": {
      "text/plain": [
       "Index(['transaction_id', 'product_id', 'customer_id', 'transaction_date',\n",
       "       'online_order', 'order_status', 'brand', 'product_line',\n",
       "       'product_class', 'product_size', 'list_price', 'standard_cost',\n",
       "       'product_first_sold_date'],\n",
       "      dtype='object')"
      ]
     },
     "execution_count": 2,
     "metadata": {},
     "output_type": "execute_result"
    }
   ],
   "source": [
    "df1.columns"
   ]
  },
  {
   "cell_type": "code",
   "execution_count": 3,
   "metadata": {},
   "outputs": [
    {
     "name": "stdout",
     "output_type": "stream",
     "text": [
      "<class 'pandas.core.frame.DataFrame'>\n",
      "RangeIndex: 20000 entries, 0 to 19999\n",
      "Data columns (total 13 columns):\n",
      " #   Column                   Non-Null Count  Dtype         \n",
      "---  ------                   --------------  -----         \n",
      " 0   transaction_id           20000 non-null  int64         \n",
      " 1   product_id               20000 non-null  int64         \n",
      " 2   customer_id              20000 non-null  int64         \n",
      " 3   transaction_date         20000 non-null  datetime64[ns]\n",
      " 4   online_order             19640 non-null  float64       \n",
      " 5   order_status             20000 non-null  object        \n",
      " 6   brand                    19803 non-null  object        \n",
      " 7   product_line             19803 non-null  object        \n",
      " 8   product_class            19803 non-null  object        \n",
      " 9   product_size             19803 non-null  object        \n",
      " 10  list_price               20000 non-null  float64       \n",
      " 11  standard_cost            19803 non-null  float64       \n",
      " 12  product_first_sold_date  19803 non-null  float64       \n",
      "dtypes: datetime64[ns](1), float64(4), int64(3), object(5)\n",
      "memory usage: 2.0+ MB\n"
     ]
    }
   ],
   "source": [
    "df1.info()"
   ]
  },
  {
   "cell_type": "code",
   "execution_count": 4,
   "metadata": {},
   "outputs": [
    {
     "data": {
      "text/plain": [
       "transaction_id        0\n",
       "product_id            0\n",
       "customer_id           0\n",
       "transaction_date      0\n",
       "online_order        360\n",
       "order_status          0\n",
       "brand               197\n",
       "product_line        197\n",
       "product_class       197\n",
       "product_size        197\n",
       "dtype: int64"
      ]
     },
     "execution_count": 4,
     "metadata": {},
     "output_type": "execute_result"
    }
   ],
   "source": [
    "missing_values_count = df1.isnull().sum()\n",
    "\n",
    "# look at the # of missing points in the first ten columns\n",
    "missing_values_count[0:10]"
   ]
  },
  {
   "cell_type": "code",
   "execution_count": 5,
   "metadata": {},
   "outputs": [
    {
     "data": {
      "text/plain": [
       "0.5930769230769231"
      ]
     },
     "execution_count": 5,
     "metadata": {},
     "output_type": "execute_result"
    }
   ],
   "source": [
    "total_cells = np.product(df1.shape)\n",
    "total_missing = missing_values_count.sum()\n",
    "\n",
    "# percent of data that is missing\n",
    "(total_missing/total_cells) * 100\n"
   ]
  },
  {
   "cell_type": "code",
   "execution_count": 6,
   "metadata": {},
   "outputs": [
    {
     "data": {
      "text/plain": [
       "0"
      ]
     },
     "execution_count": 6,
     "metadata": {},
     "output_type": "execute_result"
    }
   ],
   "source": [
    "df1.duplicated().sum()"
   ]
  },
  {
   "cell_type": "markdown",
   "metadata": {},
   "source": [
    "##### DATA ASSESSMENT\n",
    "The dataframe is quite clean except for a few columns.\n",
    "The type of the columns are proper.\n",
    "There are a missing values in online_order,brand,product_line,product_class and product_size.\n",
    "The percent of missing values is 0.5 which is quite less.\n",
    "There are no duplicate values in the data frame Transactions.\n"
   ]
  },
  {
   "cell_type": "code",
   "execution_count": 53,
   "metadata": {},
   "outputs": [],
   "source": [
    "\n",
    "import seaborn as sns\n",
    "%matplotlib inline\n",
    "sns.set_style(\"darkgrid\")"
   ]
  },
  {
   "cell_type": "code",
   "execution_count": 65,
   "metadata": {},
   "outputs": [
    {
     "data": {
      "image/png": "[encoded data removed]",
      "text/plain": [
       "<Figure size 432x432 with 3 Axes>"
      ]
     },
     "metadata": {},
     "output_type": "display_data"
    }
   ],
   "source": [
    "\n",
    "plt1 = sns.jointplot(x = df1['online_order'], y = df1['customer_id'], kind = 'hex')\n"
   ]
  },
  {
   "cell_type": "code",
   "execution_count": 48,
   "metadata": {},
   "outputs": [
    {
     "name": "stdout",
     "output_type": "stream",
     "text": [
      "9829\n"
     ]
    }
   ],
   "source": [
    "\n",
    "x1=df1.customer_id[df1.online_order==1.0].count()\n",
    "print(x1)\n",
    "\n"
   ]
  },
  {
   "cell_type": "code",
   "execution_count": 49,
   "metadata": {},
   "outputs": [
    {
     "name": "stdout",
     "output_type": "stream",
     "text": [
      "9811\n"
     ]
    }
   ],
   "source": [
    "y1=df1.customer_id[df1.online_order==0.0].count()\n",
    "print(y1)\n"
   ]
  },
  {
   "cell_type": "code",
   "execution_count": 66,
   "metadata": {},
   "outputs": [
    {
     "data": {
      "text/plain": [
       "Text(0.5, 1.0, 'ONLINE ORDER VS CUSTOMER ID')"
      ]
     },
     "execution_count": 66,
     "metadata": {},
     "output_type": "execute_result"
    },
    {
     "data": {
      "image/png": "[encoded data removed]",
      "text/plain": [
       "<Figure size 432x288 with 1 Axes>"
      ]
     },
     "metadata": {},
     "output_type": "display_data"
    }
   ],
   "source": [
    "from matplotlib import pyplot as plt\n",
    "plt.bar(df1.online_order[0:10],df1.customer_id[0:10],color=\"red\")\n",
    "plt.xlabel(\"online order\")\n",
    "plt.ylabel(\"customer id\")\n",
    "plt.title(\"ONLINE ORDER VS CUSTOMER ID\")"
   ]
  },
  {
   "cell_type": "code",
   "execution_count": 63,
   "metadata": {},
   "outputs": [
    {
     "data": {
      "text/plain": [
       "(array([4246., 2801., 3797., 2635., 2862., 1183.,  760.,  397.,  727.,\n",
       "         395.]),\n",
       " array([   7.21 ,  182.474,  357.738,  533.002,  708.266,  883.53 ,\n",
       "        1058.794, 1234.058, 1409.322, 1584.586, 1759.85 ]),\n",
       " <a list of 10 Patch objects>)"
      ]
     },
     "execution_count": 63,
     "metadata": {},
     "output_type": "execute_result"
    },
    {
     "data": {
      "image/png": "[encoded data removed]",
      "text/plain": [
       "<Figure size 432x288 with 1 Axes>"
      ]
     },
     "metadata": {},
     "output_type": "display_data"
    }
   ],
   "source": [
    "plt.hist(df1['standard_cost'])"
   ]
  }
 ],
 "metadata": {
  "kernelspec": {
   "display_name": "Python 3",
   "language": "python",
   "name": "python3"
  },
  "language_info": {
   "codemirror_mode": {
    "name": "ipython",
    "version": 3
   },
   "file_extension": ".py",
   "mimetype": "text/x-python",
   "name": "python",
   "nbconvert_exporter": "python",
   "pygments_lexer": "ipython3",
   "version": "3.7.6"
  }
 },
 "nbformat": 4,
 "nbformat_minor": 4
}
